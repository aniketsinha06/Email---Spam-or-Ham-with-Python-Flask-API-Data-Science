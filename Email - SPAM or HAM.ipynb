{
 "cells": [
  {
   "cell_type": "markdown",
   "metadata": {},
   "source": [
    "# Email - Spam or Ham with Python Flask API | Data Science"
   ]
  },
  {
   "cell_type": "markdown",
   "metadata": {},
   "source": [
    "__Description : Prediction and validation of an email whether it is spam or not based on its formation and use of words by training different machine learning algorithms and estimation of best one with best parameters.__"
   ]
  },
  {
   "cell_type": "markdown",
   "metadata": {},
   "source": [
    "__Python libraries used :__\n",
    "    1. Pandas\n",
    "    2. Scikit-learn\n",
    "    3. Seaborn\n",
    "    4. Matplotlib"
   ]
  },
  {
   "cell_type": "markdown",
   "metadata": {},
   "source": [
    "Import pandas and create a DataFrame _df_ to read Spam and Ham Email dataset. This dataset is downloaded from Kaggle."
   ]
  },
  {
   "cell_type": "code",
   "execution_count": 15,
   "metadata": {},
   "outputs": [
    {
     "data": {
      "text/html": [
       "<div>\n",
       "<style scoped>\n",
       "    .dataframe tbody tr th:only-of-type {\n",
       "        vertical-align: middle;\n",
       "    }\n",
       "\n",
       "    .dataframe tbody tr th {\n",
       "        vertical-align: top;\n",
       "    }\n",
       "\n",
       "    .dataframe thead th {\n",
       "        text-align: right;\n",
       "    }\n",
       "</style>\n",
       "<table border=\"1\" class=\"dataframe\">\n",
       "  <thead>\n",
       "    <tr style=\"text-align: right;\">\n",
       "      <th></th>\n",
       "      <th>Category</th>\n",
       "      <th>Message</th>\n",
       "      <th>Unnamed: 2</th>\n",
       "      <th>Unnamed: 3</th>\n",
       "      <th>Unnamed: 4</th>\n",
       "    </tr>\n",
       "  </thead>\n",
       "  <tbody>\n",
       "    <tr>\n",
       "      <th>0</th>\n",
       "      <td>ham</td>\n",
       "      <td>Go until jurong point, crazy.. Available only ...</td>\n",
       "      <td>NaN</td>\n",
       "      <td>NaN</td>\n",
       "      <td>NaN</td>\n",
       "    </tr>\n",
       "    <tr>\n",
       "      <th>1</th>\n",
       "      <td>ham</td>\n",
       "      <td>Ok lar... Joking wif u oni...</td>\n",
       "      <td>NaN</td>\n",
       "      <td>NaN</td>\n",
       "      <td>NaN</td>\n",
       "    </tr>\n",
       "    <tr>\n",
       "      <th>2</th>\n",
       "      <td>spam</td>\n",
       "      <td>Free entry in 2 a wkly comp to win FA Cup fina...</td>\n",
       "      <td>NaN</td>\n",
       "      <td>NaN</td>\n",
       "      <td>NaN</td>\n",
       "    </tr>\n",
       "    <tr>\n",
       "      <th>3</th>\n",
       "      <td>ham</td>\n",
       "      <td>U dun say so early hor... U c already then say...</td>\n",
       "      <td>NaN</td>\n",
       "      <td>NaN</td>\n",
       "      <td>NaN</td>\n",
       "    </tr>\n",
       "    <tr>\n",
       "      <th>4</th>\n",
       "      <td>ham</td>\n",
       "      <td>Nah I don't think he goes to usf, he lives aro...</td>\n",
       "      <td>NaN</td>\n",
       "      <td>NaN</td>\n",
       "      <td>NaN</td>\n",
       "    </tr>\n",
       "    <tr>\n",
       "      <th>5</th>\n",
       "      <td>spam</td>\n",
       "      <td>FreeMsg Hey there darling it's been 3 week's n...</td>\n",
       "      <td>NaN</td>\n",
       "      <td>NaN</td>\n",
       "      <td>NaN</td>\n",
       "    </tr>\n",
       "    <tr>\n",
       "      <th>6</th>\n",
       "      <td>ham</td>\n",
       "      <td>Even my brother is not like to speak with me. ...</td>\n",
       "      <td>NaN</td>\n",
       "      <td>NaN</td>\n",
       "      <td>NaN</td>\n",
       "    </tr>\n",
       "    <tr>\n",
       "      <th>7</th>\n",
       "      <td>ham</td>\n",
       "      <td>As per your request 'Melle Melle (Oru Minnamin...</td>\n",
       "      <td>NaN</td>\n",
       "      <td>NaN</td>\n",
       "      <td>NaN</td>\n",
       "    </tr>\n",
       "    <tr>\n",
       "      <th>8</th>\n",
       "      <td>spam</td>\n",
       "      <td>WINNER!! As a valued network customer you have...</td>\n",
       "      <td>NaN</td>\n",
       "      <td>NaN</td>\n",
       "      <td>NaN</td>\n",
       "    </tr>\n",
       "    <tr>\n",
       "      <th>9</th>\n",
       "      <td>spam</td>\n",
       "      <td>Had your mobile 11 months or more? U R entitle...</td>\n",
       "      <td>NaN</td>\n",
       "      <td>NaN</td>\n",
       "      <td>NaN</td>\n",
       "    </tr>\n",
       "    <tr>\n",
       "      <th>10</th>\n",
       "      <td>ham</td>\n",
       "      <td>I'm gonna be home soon and i don't want to tal...</td>\n",
       "      <td>NaN</td>\n",
       "      <td>NaN</td>\n",
       "      <td>NaN</td>\n",
       "    </tr>\n",
       "    <tr>\n",
       "      <th>11</th>\n",
       "      <td>spam</td>\n",
       "      <td>SIX chances to win CASH! From 100 to 20,000 po...</td>\n",
       "      <td>NaN</td>\n",
       "      <td>NaN</td>\n",
       "      <td>NaN</td>\n",
       "    </tr>\n",
       "    <tr>\n",
       "      <th>12</th>\n",
       "      <td>spam</td>\n",
       "      <td>URGENT! You have won a 1 week FREE membership ...</td>\n",
       "      <td>NaN</td>\n",
       "      <td>NaN</td>\n",
       "      <td>NaN</td>\n",
       "    </tr>\n",
       "    <tr>\n",
       "      <th>13</th>\n",
       "      <td>ham</td>\n",
       "      <td>I've been searching for the right words to tha...</td>\n",
       "      <td>NaN</td>\n",
       "      <td>NaN</td>\n",
       "      <td>NaN</td>\n",
       "    </tr>\n",
       "    <tr>\n",
       "      <th>14</th>\n",
       "      <td>ham</td>\n",
       "      <td>I HAVE A DATE ON SUNDAY WITH WILL!!</td>\n",
       "      <td>NaN</td>\n",
       "      <td>NaN</td>\n",
       "      <td>NaN</td>\n",
       "    </tr>\n",
       "    <tr>\n",
       "      <th>15</th>\n",
       "      <td>spam</td>\n",
       "      <td>XXXMobileMovieClub: To use your credit, click ...</td>\n",
       "      <td>NaN</td>\n",
       "      <td>NaN</td>\n",
       "      <td>NaN</td>\n",
       "    </tr>\n",
       "    <tr>\n",
       "      <th>16</th>\n",
       "      <td>ham</td>\n",
       "      <td>Oh k...i'm watching here:)</td>\n",
       "      <td>NaN</td>\n",
       "      <td>NaN</td>\n",
       "      <td>NaN</td>\n",
       "    </tr>\n",
       "    <tr>\n",
       "      <th>17</th>\n",
       "      <td>ham</td>\n",
       "      <td>Eh u remember how 2 spell his name... Yes i di...</td>\n",
       "      <td>NaN</td>\n",
       "      <td>NaN</td>\n",
       "      <td>NaN</td>\n",
       "    </tr>\n",
       "    <tr>\n",
       "      <th>18</th>\n",
       "      <td>ham</td>\n",
       "      <td>Fine if thatåÕs the way u feel. ThatåÕs the wa...</td>\n",
       "      <td>NaN</td>\n",
       "      <td>NaN</td>\n",
       "      <td>NaN</td>\n",
       "    </tr>\n",
       "    <tr>\n",
       "      <th>19</th>\n",
       "      <td>spam</td>\n",
       "      <td>England v Macedonia - dont miss the goals/team...</td>\n",
       "      <td>NaN</td>\n",
       "      <td>NaN</td>\n",
       "      <td>NaN</td>\n",
       "    </tr>\n",
       "  </tbody>\n",
       "</table>\n",
       "</div>"
      ],
      "text/plain": [
       "   Category                                            Message Unnamed: 2  \\\n",
       "0       ham  Go until jurong point, crazy.. Available only ...        NaN   \n",
       "1       ham                      Ok lar... Joking wif u oni...        NaN   \n",
       "2      spam  Free entry in 2 a wkly comp to win FA Cup fina...        NaN   \n",
       "3       ham  U dun say so early hor... U c already then say...        NaN   \n",
       "4       ham  Nah I don't think he goes to usf, he lives aro...        NaN   \n",
       "5      spam  FreeMsg Hey there darling it's been 3 week's n...        NaN   \n",
       "6       ham  Even my brother is not like to speak with me. ...        NaN   \n",
       "7       ham  As per your request 'Melle Melle (Oru Minnamin...        NaN   \n",
       "8      spam  WINNER!! As a valued network customer you have...        NaN   \n",
       "9      spam  Had your mobile 11 months or more? U R entitle...        NaN   \n",
       "10      ham  I'm gonna be home soon and i don't want to tal...        NaN   \n",
       "11     spam  SIX chances to win CASH! From 100 to 20,000 po...        NaN   \n",
       "12     spam  URGENT! You have won a 1 week FREE membership ...        NaN   \n",
       "13      ham  I've been searching for the right words to tha...        NaN   \n",
       "14      ham                I HAVE A DATE ON SUNDAY WITH WILL!!        NaN   \n",
       "15     spam  XXXMobileMovieClub: To use your credit, click ...        NaN   \n",
       "16      ham                         Oh k...i'm watching here:)        NaN   \n",
       "17      ham  Eh u remember how 2 spell his name... Yes i di...        NaN   \n",
       "18      ham  Fine if thatåÕs the way u feel. ThatåÕs the wa...        NaN   \n",
       "19     spam  England v Macedonia - dont miss the goals/team...        NaN   \n",
       "\n",
       "   Unnamed: 3 Unnamed: 4  \n",
       "0         NaN        NaN  \n",
       "1         NaN        NaN  \n",
       "2         NaN        NaN  \n",
       "3         NaN        NaN  \n",
       "4         NaN        NaN  \n",
       "5         NaN        NaN  \n",
       "6         NaN        NaN  \n",
       "7         NaN        NaN  \n",
       "8         NaN        NaN  \n",
       "9         NaN        NaN  \n",
       "10        NaN        NaN  \n",
       "11        NaN        NaN  \n",
       "12        NaN        NaN  \n",
       "13        NaN        NaN  \n",
       "14        NaN        NaN  \n",
       "15        NaN        NaN  \n",
       "16        NaN        NaN  \n",
       "17        NaN        NaN  \n",
       "18        NaN        NaN  \n",
       "19        NaN        NaN  "
      ]
     },
     "execution_count": 15,
     "metadata": {},
     "output_type": "execute_result"
    }
   ],
   "source": [
    "import pandas as pd\n",
    "df = pd.read_csv('spam.csv', encoding='latin-1')\n",
    "df.head(20)"
   ]
  },
  {
   "cell_type": "code",
   "execution_count": 16,
   "metadata": {},
   "outputs": [
    {
     "data": {
      "text/plain": [
       "(5572, 5)"
      ]
     },
     "execution_count": 16,
     "metadata": {},
     "output_type": "execute_result"
    }
   ],
   "source": [
    "df.shape"
   ]
  },
  {
   "cell_type": "markdown",
   "metadata": {},
   "source": [
    "## Data Analysis and Cleaning"
   ]
  },
  {
   "cell_type": "markdown",
   "metadata": {},
   "source": [
    "DataFrame consists of information which do not contribute in the estimation of spam emails at all. Model training needs only two columns - Category and Message. Rest of the columns are useless and need to be dropped."
   ]
  },
  {
   "cell_type": "code",
   "execution_count": 17,
   "metadata": {},
   "outputs": [
    {
     "data": {
      "text/plain": [
       "Category         0\n",
       "Message          0\n",
       "Unnamed: 2    5522\n",
       "Unnamed: 3    5560\n",
       "Unnamed: 4    5566\n",
       "dtype: int64"
      ]
     },
     "execution_count": 17,
     "metadata": {},
     "output_type": "execute_result"
    }
   ],
   "source": [
    "df.isnull().sum()"
   ]
  },
  {
   "cell_type": "markdown",
   "metadata": {},
   "source": [
    "Creating DataFrame df2 after filtering unwanted information."
   ]
  },
  {
   "cell_type": "code",
   "execution_count": 18,
   "metadata": {},
   "outputs": [
    {
     "data": {
      "text/html": [
       "<div>\n",
       "<style scoped>\n",
       "    .dataframe tbody tr th:only-of-type {\n",
       "        vertical-align: middle;\n",
       "    }\n",
       "\n",
       "    .dataframe tbody tr th {\n",
       "        vertical-align: top;\n",
       "    }\n",
       "\n",
       "    .dataframe thead th {\n",
       "        text-align: right;\n",
       "    }\n",
       "</style>\n",
       "<table border=\"1\" class=\"dataframe\">\n",
       "  <thead>\n",
       "    <tr style=\"text-align: right;\">\n",
       "      <th></th>\n",
       "      <th>Category</th>\n",
       "      <th>Message</th>\n",
       "    </tr>\n",
       "  </thead>\n",
       "  <tbody>\n",
       "    <tr>\n",
       "      <th>0</th>\n",
       "      <td>ham</td>\n",
       "      <td>Go until jurong point, crazy.. Available only ...</td>\n",
       "    </tr>\n",
       "    <tr>\n",
       "      <th>1</th>\n",
       "      <td>ham</td>\n",
       "      <td>Ok lar... Joking wif u oni...</td>\n",
       "    </tr>\n",
       "    <tr>\n",
       "      <th>2</th>\n",
       "      <td>spam</td>\n",
       "      <td>Free entry in 2 a wkly comp to win FA Cup fina...</td>\n",
       "    </tr>\n",
       "    <tr>\n",
       "      <th>3</th>\n",
       "      <td>ham</td>\n",
       "      <td>U dun say so early hor... U c already then say...</td>\n",
       "    </tr>\n",
       "    <tr>\n",
       "      <th>4</th>\n",
       "      <td>ham</td>\n",
       "      <td>Nah I don't think he goes to usf, he lives aro...</td>\n",
       "    </tr>\n",
       "  </tbody>\n",
       "</table>\n",
       "</div>"
      ],
      "text/plain": [
       "  Category                                            Message\n",
       "0      ham  Go until jurong point, crazy.. Available only ...\n",
       "1      ham                      Ok lar... Joking wif u oni...\n",
       "2     spam  Free entry in 2 a wkly comp to win FA Cup fina...\n",
       "3      ham  U dun say so early hor... U c already then say...\n",
       "4      ham  Nah I don't think he goes to usf, he lives aro..."
      ]
     },
     "execution_count": 18,
     "metadata": {},
     "output_type": "execute_result"
    }
   ],
   "source": [
    "df2 = df.drop(['Unnamed: 2', 'Unnamed: 3', 'Unnamed: 4'], axis = 'columns')\n",
    "df2.head()"
   ]
  },
  {
   "cell_type": "markdown",
   "metadata": {},
   "source": [
    "Couple of things to be taken care of :\n",
    "\n",
    "1. Dealing with NULL values\n",
    "2. Create dummy values for locations\n",
    "3. Dealing with Messages using CountVectorizer\n",
    "4. Dealing with Unformatted entries"
   ]
  },
  {
   "cell_type": "markdown",
   "metadata": {},
   "source": [
    "### 1. Dealing with NULL values"
   ]
  },
  {
   "cell_type": "markdown",
   "metadata": {},
   "source": [
    "Check how many values are NULL in each column."
   ]
  },
  {
   "cell_type": "code",
   "execution_count": 36,
   "metadata": {},
   "outputs": [
    {
     "data": {
      "text/plain": [
       "Category    0\n",
       "Message     0\n",
       "dtype: int64"
      ]
     },
     "execution_count": 36,
     "metadata": {},
     "output_type": "execute_result"
    }
   ],
   "source": [
    "df2.isna().sum()"
   ]
  },
  {
   "cell_type": "markdown",
   "metadata": {},
   "source": [
    "Dataset does not have any other NULL entries."
   ]
  },
  {
   "cell_type": "markdown",
   "metadata": {},
   "source": [
    "### 2. Create dummy values for Category"
   ]
  },
  {
   "cell_type": "markdown",
   "metadata": {},
   "source": [
    "Here Category 1 is Spam and 0 is Ham. Machine Learning Models work only with numbers. Converting values in __Category__ column to digits by creating dummy values for them."
   ]
  },
  {
   "cell_type": "code",
   "execution_count": 34,
   "metadata": {},
   "outputs": [
    {
     "data": {
      "text/html": [
       "<div>\n",
       "<style scoped>\n",
       "    .dataframe tbody tr th:only-of-type {\n",
       "        vertical-align: middle;\n",
       "    }\n",
       "\n",
       "    .dataframe tbody tr th {\n",
       "        vertical-align: top;\n",
       "    }\n",
       "\n",
       "    .dataframe thead th {\n",
       "        text-align: right;\n",
       "    }\n",
       "</style>\n",
       "<table border=\"1\" class=\"dataframe\">\n",
       "  <thead>\n",
       "    <tr style=\"text-align: right;\">\n",
       "      <th></th>\n",
       "      <th>Category</th>\n",
       "      <th>Message</th>\n",
       "    </tr>\n",
       "  </thead>\n",
       "  <tbody>\n",
       "    <tr>\n",
       "      <th>0</th>\n",
       "      <td>0</td>\n",
       "      <td>Go until jurong point, crazy.. Available only ...</td>\n",
       "    </tr>\n",
       "    <tr>\n",
       "      <th>1</th>\n",
       "      <td>0</td>\n",
       "      <td>Ok lar... Joking wif u oni...</td>\n",
       "    </tr>\n",
       "    <tr>\n",
       "      <th>2</th>\n",
       "      <td>1</td>\n",
       "      <td>Free entry in 2 a wkly comp to win FA Cup fina...</td>\n",
       "    </tr>\n",
       "    <tr>\n",
       "      <th>3</th>\n",
       "      <td>0</td>\n",
       "      <td>U dun say so early hor... U c already then say...</td>\n",
       "    </tr>\n",
       "    <tr>\n",
       "      <th>4</th>\n",
       "      <td>0</td>\n",
       "      <td>Nah I don't think he goes to usf, he lives aro...</td>\n",
       "    </tr>\n",
       "  </tbody>\n",
       "</table>\n",
       "</div>"
      ],
      "text/plain": [
       "   Category                                            Message\n",
       "0         0  Go until jurong point, crazy.. Available only ...\n",
       "1         0                      Ok lar... Joking wif u oni...\n",
       "2         1  Free entry in 2 a wkly comp to win FA Cup fina...\n",
       "3         0  U dun say so early hor... U c already then say...\n",
       "4         0  Nah I don't think he goes to usf, he lives aro..."
      ]
     },
     "execution_count": 34,
     "metadata": {},
     "output_type": "execute_result"
    }
   ],
   "source": [
    "df3 = df2.replace(['ham', 'spam'], [0, 1])\n",
    "df3.head()"
   ]
  },
  {
   "cell_type": "code",
   "execution_count": 37,
   "metadata": {},
   "outputs": [
    {
     "data": {
      "text/plain": [
       "(5572, 2)"
      ]
     },
     "execution_count": 37,
     "metadata": {},
     "output_type": "execute_result"
    }
   ],
   "source": [
    "df3.shape"
   ]
  },
  {
   "cell_type": "markdown",
   "metadata": {},
   "source": [
    "Examine the statistics of column Category"
   ]
  },
  {
   "cell_type": "code",
   "execution_count": 43,
   "metadata": {},
   "outputs": [
    {
     "data": {
      "text/html": [
       "<div>\n",
       "<style scoped>\n",
       "    .dataframe tbody tr th:only-of-type {\n",
       "        vertical-align: middle;\n",
       "    }\n",
       "\n",
       "    .dataframe tbody tr th {\n",
       "        vertical-align: top;\n",
       "    }\n",
       "\n",
       "    .dataframe thead tr th {\n",
       "        text-align: left;\n",
       "    }\n",
       "\n",
       "    .dataframe thead tr:last-of-type th {\n",
       "        text-align: right;\n",
       "    }\n",
       "</style>\n",
       "<table border=\"1\" class=\"dataframe\">\n",
       "  <thead>\n",
       "    <tr>\n",
       "      <th></th>\n",
       "      <th colspan=\"4\" halign=\"left\">Message</th>\n",
       "    </tr>\n",
       "    <tr>\n",
       "      <th></th>\n",
       "      <th>count</th>\n",
       "      <th>unique</th>\n",
       "      <th>top</th>\n",
       "      <th>freq</th>\n",
       "    </tr>\n",
       "    <tr>\n",
       "      <th>Category</th>\n",
       "      <th></th>\n",
       "      <th></th>\n",
       "      <th></th>\n",
       "      <th></th>\n",
       "    </tr>\n",
       "  </thead>\n",
       "  <tbody>\n",
       "    <tr>\n",
       "      <th>0</th>\n",
       "      <td>4825</td>\n",
       "      <td>4516</td>\n",
       "      <td>Sorry, I'll call later</td>\n",
       "      <td>30</td>\n",
       "    </tr>\n",
       "    <tr>\n",
       "      <th>1</th>\n",
       "      <td>747</td>\n",
       "      <td>653</td>\n",
       "      <td>Please call our customer service representativ...</td>\n",
       "      <td>4</td>\n",
       "    </tr>\n",
       "  </tbody>\n",
       "</table>\n",
       "</div>"
      ],
      "text/plain": [
       "         Message                                                            \\\n",
       "           count unique                                                top   \n",
       "Category                                                                     \n",
       "0           4825   4516                             Sorry, I'll call later   \n",
       "1            747    653  Please call our customer service representativ...   \n",
       "\n",
       "               \n",
       "         freq  \n",
       "Category       \n",
       "0          30  \n",
       "1           4  "
      ]
     },
     "execution_count": 43,
     "metadata": {},
     "output_type": "execute_result"
    }
   ],
   "source": [
    "df3.groupby('Category').describe()"
   ]
  },
  {
   "cell_type": "markdown",
   "metadata": {},
   "source": [
    "Count the number of message which is a spam (has value 1) and ham (has value 0)."
   ]
  },
  {
   "cell_type": "code",
   "execution_count": 46,
   "metadata": {},
   "outputs": [
    {
     "data": {
      "text/plain": [
       "0    4825\n",
       "1     747\n",
       "Name: Category, dtype: int64"
      ]
     },
     "execution_count": 46,
     "metadata": {},
     "output_type": "execute_result"
    }
   ],
   "source": [
    "df3['Category'].value_counts()"
   ]
  },
  {
   "cell_type": "markdown",
   "metadata": {},
   "source": [
    "## 3. Dealing with Messages using CountVectorizer"
   ]
  },
  {
   "cell_type": "markdown",
   "metadata": {},
   "source": [
    "Spliting the feature (Message) and labels (Category - spam or ham) into 80% training and 20% test data"
   ]
  },
  {
   "cell_type": "code",
   "execution_count": 47,
   "metadata": {},
   "outputs": [],
   "source": [
    "from sklearn.model_selection import train_test_split\n",
    "x_train, x_test, y_train, y_test = train_test_split(df3.Message, df3.Category, test_size = 0.2)"
   ]
  },
  {
   "cell_type": "markdown",
   "metadata": {},
   "source": [
    "CounVectorizer converts a collection of text documents to a matrix of token counts and stores a set of unique words."
   ]
  },
  {
   "cell_type": "code",
   "execution_count": 57,
   "metadata": {},
   "outputs": [
    {
     "name": "stdout",
     "output_type": "stream",
     "text": [
      "5344               When you guys planning on coming over?\n",
      "1365    HOT LIVE FANTASIES call now 08707509020 Just 2...\n",
      "4023                               Wat time Ì_ wan today?\n",
      "1624    500 free text msgs. Just text ok to 80488 and ...\n",
      "483     Thank you baby! I cant wait to taste the real ...\n",
      "Name: Message, dtype: object\n",
      "  (0, 7409)\t1\n",
      "  (0, 7632)\t1\n",
      "  (0, 3281)\t1\n",
      "  (0, 5196)\t1\n",
      "  (0, 4900)\t1\n",
      "  (0, 1927)\t1\n",
      "  (0, 4989)\t1\n",
      "  (1, 3502)\t1\n",
      "  (1, 4132)\t1\n",
      "  (1, 2788)\t1\n",
      "  (1, 1618)\t1\n",
      "  (1, 4813)\t1\n",
      "  (1, 115)\t1\n",
      "  (1, 3859)\t1\n",
      "  (1, 379)\t1\n",
      "  (1, 5106)\t1\n",
      "  (1, 4454)\t1\n",
      "  (1, 4820)\t1\n",
      "  (1, 4229)\t1\n",
      "  (1, 5226)\t1\n",
      "  (1, 1473)\t1\n",
      "  (1, 319)\t1\n",
      "  (1, 2099)\t1\n",
      "  (1, 2067)\t1\n",
      "  (1, 584)\t1\n",
      "  :\t:\n",
      "  (4454, 947)\t1\n",
      "  (4454, 1102)\t1\n",
      "  (4454, 5841)\t1\n",
      "  (4454, 893)\t1\n",
      "  (4454, 2408)\t1\n",
      "  (4454, 2532)\t1\n",
      "  (4455, 2987)\t1\n",
      "  (4455, 6872)\t1\n",
      "  (4455, 1654)\t1\n",
      "  (4455, 2196)\t1\n",
      "  (4455, 7419)\t1\n",
      "  (4455, 4910)\t1\n",
      "  (4455, 1588)\t1\n",
      "  (4455, 7519)\t1\n",
      "  (4455, 4056)\t1\n",
      "  (4455, 3023)\t1\n",
      "  (4455, 4541)\t1\n",
      "  (4455, 6822)\t1\n",
      "  (4455, 4074)\t1\n",
      "  (4455, 5859)\t1\n",
      "  (4455, 4961)\t1\n",
      "  (4455, 1446)\t1\n",
      "  (4456, 6766)\t1\n",
      "  (4456, 4184)\t1\n",
      "  (4456, 2466)\t1\n"
     ]
    }
   ],
   "source": [
    "from sklearn.feature_extraction.text import CountVectorizer\n",
    "v = CountVectorizer()\n",
    "x_train_count = v.fit_transform(x_train.values)\n",
    "print(x_train[:5])\n",
    "print(x_train_count)\n"
   ]
  },
  {
   "cell_type": "code",
   "execution_count": 82,
   "metadata": {},
   "outputs": [],
   "source": [
    "\n",
    "#from sklearn.naive_bayes import GaussianNB\n",
    "#from sklearn.tree import DecisionTreeClassifier\n",
    "#from sklearn.metrics import confusion_matrix\n",
    "#from sklearn.metrics import accuracy_score\n",
    "#from sklearn.metrics import classification_report"
   ]
  },
  {
   "cell_type": "markdown",
   "metadata": {},
   "source": [
    "### 4. Dealing with Unformatted entries"
   ]
  },
  {
   "cell_type": "markdown",
   "metadata": {},
   "source": [
    "Column 'Message' has entries which is not in proper format - different signs, exclamation marks, special keywords like '$', '%', '_' etc. Training model needs only words. Removing unwanted charachters and filtering Message in proper format."
   ]
  },
  {
   "cell_type": "code",
   "execution_count": 52,
   "metadata": {},
   "outputs": [
    {
     "name": "stderr",
     "output_type": "stream",
     "text": [
      "[nltk_data] Downloading package stopwords to\n",
      "[nltk_data]     C:\\Users\\19294\\AppData\\Roaming\\nltk_data...\n",
      "[nltk_data]   Unzipping corpora\\stopwords.zip.\n"
     ]
    }
   ],
   "source": [
    "import re\n",
    "import numpy as np\n",
    "import nltk\n",
    "from nltk.corpus import stopwords\n",
    "from sklearn.preprocessing import LabelEncoder\n",
    "nltk.download('stopwords')\n",
    "from nltk.stem.porter import PorterStemmer\n",
    "ps = PorterStemmer()\n",
    "\n"
   ]
  },
  {
   "cell_type": "markdown",
   "metadata": {},
   "source": [
    "Define a function to remove unwanted characters."
   ]
  },
  {
   "cell_type": "code",
   "execution_count": 110,
   "metadata": {},
   "outputs": [],
   "source": [
    "# Function to remove unwanted characters\n",
    "def preprocessing(df2, l):\n",
    "    corpus = []\n",
    "    \n",
    "    for i in range(0, l):\n",
    "\n",
    "        # Applying Regular Expression\n",
    "    \n",
    "        '''\n",
    "        Replace email addresses with 'emailaddr'\n",
    "        Replace URLs with 'httpaddr'\n",
    "        Replace money symbols with 'moneysymb'\n",
    "        Replace phone numbers with 'phonenumbr'\n",
    "        Replace numbers with 'numbr'\n",
    "        '''\n",
    "        msg = df2['Message'][i]\n",
    "        msg = re.sub('\\b[\\w\\-.]+?@\\w+?\\.\\w{2,4}\\b', 'emailaddr', df2['Message'][i])\n",
    "        msg = re.sub('(http[s]?\\S+)|(\\w+\\.[A-Za-z]{2,4}\\S*)', 'httpaddr', df2['Message'][i])\n",
    "        msg = re.sub('£|\\$', 'moneysymb', df2['Message'][i])\n",
    "        msg = re.sub('\\b(\\+\\d{1,2}\\s)?\\d?[\\-(.]?\\d{3}\\)?[\\s.-]?\\d{3}[\\s.-]?\\d{4}\\b', 'phonenumbr', df2['Message'][i])\n",
    "        msg = re.sub('\\d+(\\.\\d+)?', 'numbr', df2['Message'][i])\n",
    "    \n",
    "        ''' Remove all punctuations '''\n",
    "        msg = re.sub('[^\\w\\d\\s]', ' ', df2['Message'][i])\n",
    "        if i<2:\n",
    "            Message_heading = (\"\\t\\t\\t\\t MESSAGE \", i)\n",
    "            #print(Message_heading)\n",
    "    \n",
    "        if i<2:\n",
    "            a = (\"\\n After Regular Expression - Message \", i, \" : \", msg)\n",
    "            #print(a)\n",
    "    \n",
    "        # Each word to lower case\n",
    "        msg = msg.lower()    \n",
    "        if i<2:\n",
    "            b = (\"\\n Lower case Message \", i, \" : \", msg)\n",
    "            #print(b)\n",
    "    \n",
    "        # Splitting words to Tokenize\n",
    "        msg = msg.split()    \n",
    "        if i<2:\n",
    "            c = (\"\\n After Splitting - Message \", i, \" : \", msg)\n",
    "            #print(c)\n",
    "    \n",
    "        # Stemming with PorterStemmer handling Stop Words\n",
    "        msg = [ps.stem(word) for word in msg if not word in set(stopwords.words('english'))]\n",
    "        if i<2:\n",
    "            d = (\"\\n After Stemming - Message \", i, \" : \", msg)\n",
    "            #print(d)\n",
    "    \n",
    "        # preparing Messages with Remaining Tokens\n",
    "        msg = ' '.join(msg)\n",
    "        if i<2:\n",
    "            e = (\"\\n Final Prepared - Message \", i, \" : \", msg, \"\\n\\n\")\n",
    "            #print(e)\n",
    "    \n",
    "        # Preparing WordVector Corpus\n",
    "        corpus.append(msg)\n",
    "    return corpus"
   ]
  },
  {
   "cell_type": "code",
   "execution_count": 55,
   "metadata": {},
   "outputs": [
    {
     "name": "stdout",
     "output_type": "stream",
     "text": [
      "\t\t\t\t MESSAGE  0\n",
      "\n",
      " After Regular Expression - Message  0  :  Go until jurong point  crazy   Available only in bugis n great world la e buffet    Cine there got amore wat   \n",
      "\n",
      " Lower case Message  0  :  go until jurong point  crazy   available only in bugis n great world la e buffet    cine there got amore wat   \n",
      "\n",
      " After Splitting - Message  0  :  ['go', 'until', 'jurong', 'point', 'crazy', 'available', 'only', 'in', 'bugis', 'n', 'great', 'world', 'la', 'e', 'buffet', 'cine', 'there', 'got', 'amore', 'wat']\n",
      "\n",
      " After Stemming - Message  0  :  ['go', 'jurong', 'point', 'crazi', 'avail', 'bugi', 'n', 'great', 'world', 'la', 'e', 'buffet', 'cine', 'got', 'amor', 'wat']\n",
      "\n",
      " Final Prepared - Message  0  :  go jurong point crazi avail bugi n great world la e buffet cine got amor wat \n",
      "\n",
      "\n",
      "\t\t\t\t MESSAGE  1\n",
      "\n",
      " After Regular Expression - Message  1  :  Ok lar    Joking wif u oni   \n",
      "\n",
      " Lower case Message  1  :  ok lar    joking wif u oni   \n",
      "\n",
      " After Splitting - Message  1  :  ['ok', 'lar', 'joking', 'wif', 'u', 'oni']\n",
      "\n",
      " After Stemming - Message  1  :  ['ok', 'lar', 'joke', 'wif', 'u', 'oni']\n",
      "\n",
      " Final Prepared - Message  1  :  ok lar joke wif u oni \n",
      "\n",
      "\n"
     ]
    },
    {
     "data": {
      "text/plain": [
       "['go jurong point crazi avail bugi n great world la e buffet cine got amor wat',\n",
       " 'ok lar joke wif u oni',\n",
       " 'free entri 2 wkli comp win fa cup final tkt 21st may 2005 text fa 87121 receiv entri question std txt rate c appli 08452810075over18',\n",
       " 'u dun say earli hor u c alreadi say',\n",
       " 'nah think goe usf live around though']"
      ]
     },
     "execution_count": 55,
     "metadata": {},
     "output_type": "execute_result"
    }
   ],
   "source": [
    "l = len(df3.Category)\n",
    "corpus = preprocessing(df3, l)\n",
    "len(corpus)\n",
    "corpus[:5]"
   ]
  },
  {
   "cell_type": "code",
   "execution_count": 56,
   "metadata": {},
   "outputs": [
    {
     "data": {
      "text/plain": [
       "76"
      ]
     },
     "execution_count": 56,
     "metadata": {},
     "output_type": "execute_result"
    }
   ],
   "source": [
    "len(corpus[0])"
   ]
  },
  {
   "cell_type": "markdown",
   "metadata": {},
   "source": [
    "It seems that column Message have proper entries."
   ]
  },
  {
   "cell_type": "markdown",
   "metadata": {},
   "source": [
    "Fitting and transforming CountVectorizer with corpus "
   ]
  },
  {
   "cell_type": "code",
   "execution_count": 58,
   "metadata": {},
   "outputs": [],
   "source": [
    "cv = CountVectorizer()\n",
    "x = cv.fit_transform(corpus[:3200]).toarray()\n"
   ]
  },
  {
   "cell_type": "code",
   "execution_count": 59,
   "metadata": {},
   "outputs": [
    {
     "data": {
      "text/plain": [
       "['00',\n",
       " '000',\n",
       " '000pe',\n",
       " '008704050406',\n",
       " '0089',\n",
       " '01',\n",
       " '010',\n",
       " '0100',\n",
       " '01000',\n",
       " '012',\n",
       " '01223585334',\n",
       " '01250',\n",
       " '0125698789',\n",
       " '01450',\n",
       " '0150',\n",
       " '01500',\n",
       " '01million',\n",
       " '02',\n",
       " '0200',\n",
       " '02000',\n",
       " '0207',\n",
       " '02072069400',\n",
       " '021',\n",
       " '0250',\n",
       " '0250k',\n",
       " '03',\n",
       " '033',\n",
       " '0350',\n",
       " '04',\n",
       " '048',\n",
       " '05',\n",
       " '050',\n",
       " '0500',\n",
       " '05000',\n",
       " '050703',\n",
       " '050award',\n",
       " '0578',\n",
       " '06',\n",
       " '07',\n",
       " '07046744435',\n",
       " '07123456789',\n",
       " '0721072',\n",
       " '075',\n",
       " '07732584351',\n",
       " '07734396839',\n",
       " '07742676969',\n",
       " '07753741225',\n",
       " '0776xxxxxxx',\n",
       " '07781482378',\n",
       " '07786200117',\n",
       " '077xxx',\n",
       " '07801543489',\n",
       " '07808',\n",
       " '07815296484',\n",
       " '07821230901',\n",
       " '07880867867',\n",
       " '079',\n",
       " '07946746291',\n",
       " '07xxxxxxxxx',\n",
       " '08',\n",
       " '0800',\n",
       " '08000407165',\n",
       " '08000776320',\n",
       " '08000839402',\n",
       " '08000930705',\n",
       " '08000938767',\n",
       " '08001950382',\n",
       " '08002888812',\n",
       " '08002986030',\n",
       " '08002986906',\n",
       " '08002988890',\n",
       " '08006344447',\n",
       " '0808',\n",
       " '08081560665',\n",
       " '0825',\n",
       " '0844',\n",
       " '0845',\n",
       " '08450542832',\n",
       " '08452810071',\n",
       " '08452810073',\n",
       " '08452810075over18',\n",
       " '0870',\n",
       " '08700435505150p',\n",
       " '08700469649',\n",
       " '08700621170150p',\n",
       " '08701237397',\n",
       " '08701417012',\n",
       " '08701417012150p',\n",
       " '0870141701216',\n",
       " '087016248',\n",
       " '087018728737',\n",
       " '0870241182716',\n",
       " '08702490080',\n",
       " '08702840625',\n",
       " '08704050406',\n",
       " '08704439680t',\n",
       " '08706091795',\n",
       " '0870737910216yr',\n",
       " '08707509020',\n",
       " '0870753331018',\n",
       " '08707808226',\n",
       " '08708034412',\n",
       " '08708800282',\n",
       " '08709222922',\n",
       " '0871',\n",
       " '08712101358',\n",
       " '08712103738',\n",
       " '0871212025016',\n",
       " '08712300220',\n",
       " '087123002209am',\n",
       " '08712317606',\n",
       " '08712400200',\n",
       " '08712400602450p',\n",
       " '08712400603',\n",
       " '08712402050',\n",
       " '08712402779',\n",
       " '08712402902',\n",
       " '08712404000',\n",
       " '08712405020',\n",
       " '08712405022',\n",
       " '08712460324',\n",
       " '0871277810810',\n",
       " '0871277810910p',\n",
       " '08714712379',\n",
       " '08714712388',\n",
       " '08714712394',\n",
       " '08714714011',\n",
       " '08715203028',\n",
       " '08715203677',\n",
       " '08715203694',\n",
       " '08715500022',\n",
       " '08715705022',\n",
       " '08717168528',\n",
       " '08717205546',\n",
       " '08717898035',\n",
       " '08718711108',\n",
       " '08718720201',\n",
       " '08718723815',\n",
       " '08718725756',\n",
       " '087187262701',\n",
       " '08718726970',\n",
       " '08718726971',\n",
       " '08718727868',\n",
       " '08718727870',\n",
       " '08718730555',\n",
       " '08718730666',\n",
       " '08718738001',\n",
       " '08718738034',\n",
       " '08719180248',\n",
       " '08719181503',\n",
       " '08719181513',\n",
       " '08719899217',\n",
       " '08719899230',\n",
       " '09',\n",
       " '0900',\n",
       " '09041940223',\n",
       " '09050000301',\n",
       " '09050000555',\n",
       " '09050001295',\n",
       " '09050001808',\n",
       " '09050002311',\n",
       " '09050003091',\n",
       " '09050005321',\n",
       " '09050090044',\n",
       " '09050280520',\n",
       " '09053750005',\n",
       " '09056242159',\n",
       " '09057039994',\n",
       " '09058091854',\n",
       " '09058094454',\n",
       " '09058094455',\n",
       " '09058094565',\n",
       " '09058094594',\n",
       " '09058094597',\n",
       " '09058094599',\n",
       " '09058097218',\n",
       " '09058098002',\n",
       " '09058099801',\n",
       " '09061104283',\n",
       " '09061209465',\n",
       " '09061221061',\n",
       " '09061701444',\n",
       " '09061701461',\n",
       " '09061701939',\n",
       " '09061743806',\n",
       " '09061743810',\n",
       " '09061743811',\n",
       " '09061749602',\n",
       " '09061790121',\n",
       " '09063440451',\n",
       " '09063442151',\n",
       " '09063458130',\n",
       " '09064011000',\n",
       " '09064012103',\n",
       " '09064012160',\n",
       " '09064018838',\n",
       " '09064019014',\n",
       " '09064019788',\n",
       " '09065069120',\n",
       " '09065069154',\n",
       " '09065171142',\n",
       " '09065174042',\n",
       " '09065394514',\n",
       " '09065394973',\n",
       " '09066350750',\n",
       " '09066358152',\n",
       " '09066362206',\n",
       " '09066362220',\n",
       " '09066362231',\n",
       " '09066364589',\n",
       " '09066368327',\n",
       " '09066368753',\n",
       " '09066382422',\n",
       " '09066612661',\n",
       " '09071512433',\n",
       " '09090204448',\n",
       " '09090900040',\n",
       " '09094100151',\n",
       " '09094646899',\n",
       " '09096102316',\n",
       " '09099725823',\n",
       " '09099726395',\n",
       " '09099726429',\n",
       " '09099726481',\n",
       " '09111030116',\n",
       " '09111032124',\n",
       " '09701213186',\n",
       " '0a',\n",
       " '0quit',\n",
       " '10',\n",
       " '100',\n",
       " '1000',\n",
       " '100p',\n",
       " '100percent',\n",
       " '100txt',\n",
       " '10am',\n",
       " '10k',\n",
       " '10p',\n",
       " '10ppm',\n",
       " '10th',\n",
       " '11',\n",
       " '113',\n",
       " '114',\n",
       " '11mth',\n",
       " '11pm',\n",
       " '12',\n",
       " '120p',\n",
       " '121',\n",
       " '1225',\n",
       " '123',\n",
       " '125gift',\n",
       " '12hr',\n",
       " '12mth',\n",
       " '1327',\n",
       " '14',\n",
       " '1405',\n",
       " '140ppm',\n",
       " '145',\n",
       " '14tcr',\n",
       " '14thmarch',\n",
       " '15',\n",
       " '150',\n",
       " '150p',\n",
       " '150p16',\n",
       " '150pm',\n",
       " '150ppermesssubscript',\n",
       " '150ppm',\n",
       " '150ppmsg',\n",
       " '153',\n",
       " '16',\n",
       " '1680',\n",
       " '169',\n",
       " '18',\n",
       " '1843',\n",
       " '18yr',\n",
       " '1956669',\n",
       " '1da',\n",
       " '1er',\n",
       " '1hr',\n",
       " '1pm',\n",
       " '1st',\n",
       " '1stchoic',\n",
       " '1thing',\n",
       " '1win150ppmx3',\n",
       " '1winaweek',\n",
       " '1x150p',\n",
       " '1yf',\n",
       " '20',\n",
       " '2000',\n",
       " '2003',\n",
       " '2004',\n",
       " '2005',\n",
       " '2006',\n",
       " '2007',\n",
       " '200p',\n",
       " '20m12aq',\n",
       " '20p',\n",
       " '21',\n",
       " '21870000',\n",
       " '21st',\n",
       " '22',\n",
       " '220',\n",
       " '220cm2',\n",
       " '23f',\n",
       " '23g',\n",
       " '24',\n",
       " '24hr',\n",
       " '25',\n",
       " '250',\n",
       " '25p',\n",
       " '26th',\n",
       " '27',\n",
       " '28',\n",
       " '2814032',\n",
       " '28day',\n",
       " '28th',\n",
       " '28thfeb',\n",
       " '29',\n",
       " '2c',\n",
       " '2channel',\n",
       " '2day',\n",
       " '2end',\n",
       " '2exit',\n",
       " '2getha',\n",
       " '2geva',\n",
       " '2go',\n",
       " '2gthr',\n",
       " '2hr',\n",
       " '2kbsubject',\n",
       " '2land',\n",
       " '2marrow',\n",
       " '2moro',\n",
       " '2morow',\n",
       " '2morro',\n",
       " '2morrow',\n",
       " '2mrw',\n",
       " '2nd',\n",
       " '2nhite',\n",
       " '2nite',\n",
       " '2optout',\n",
       " '2price',\n",
       " '2px',\n",
       " '2rcv',\n",
       " '2stop',\n",
       " '2stoptx',\n",
       " '2stoptxt',\n",
       " '2u',\n",
       " '2wk',\n",
       " '2wt',\n",
       " '2year',\n",
       " '2yr',\n",
       " '30',\n",
       " '300603',\n",
       " '300p',\n",
       " '3030',\n",
       " '30apr',\n",
       " '30ish',\n",
       " '30pm',\n",
       " '30th',\n",
       " '31',\n",
       " '3100',\n",
       " '310303',\n",
       " '31p',\n",
       " '32',\n",
       " '3230',\n",
       " '32323',\n",
       " '326',\n",
       " '350',\n",
       " '35p',\n",
       " '3650',\n",
       " '36504',\n",
       " '3680',\n",
       " '382',\n",
       " '391784',\n",
       " '3aj',\n",
       " '3d',\n",
       " '3day',\n",
       " '3g',\n",
       " '3gbp',\n",
       " '3lp',\n",
       " '3min',\n",
       " '3pound',\n",
       " '3qxj9',\n",
       " '3rd',\n",
       " '3ss',\n",
       " '3uz',\n",
       " '3x0150pw',\n",
       " '40',\n",
       " '400min',\n",
       " '4041',\n",
       " '40533',\n",
       " '40gb',\n",
       " '41685',\n",
       " '41782',\n",
       " '42478',\n",
       " '434',\n",
       " '4403ldnw1a7rw18',\n",
       " '447801259231',\n",
       " '448712404000',\n",
       " '449050000301',\n",
       " '449071512431',\n",
       " '45239',\n",
       " '4719',\n",
       " '4742',\n",
       " '47per',\n",
       " '48',\n",
       " '4882',\n",
       " '49',\n",
       " '4a',\n",
       " '4d',\n",
       " '4few',\n",
       " '4fil',\n",
       " '4get',\n",
       " '4got',\n",
       " '4goten',\n",
       " '4info',\n",
       " '4jx',\n",
       " '4msg',\n",
       " '4mth',\n",
       " '4qf2',\n",
       " '4t',\n",
       " '4th',\n",
       " '4the',\n",
       " '4txt',\n",
       " '4u',\n",
       " '4w',\n",
       " '50',\n",
       " '500',\n",
       " '5000',\n",
       " '505060',\n",
       " '50gbp',\n",
       " '50p',\n",
       " '50perwksub',\n",
       " '50pm',\n",
       " '50pmmorefrommobile2bremov',\n",
       " '515',\n",
       " '523',\n",
       " '526',\n",
       " '528',\n",
       " '530',\n",
       " '54',\n",
       " '542',\n",
       " '5ish',\n",
       " '5k',\n",
       " '5min',\n",
       " '5p',\n",
       " '5pm',\n",
       " '5th',\n",
       " '5wb',\n",
       " '5we',\n",
       " '5wkg',\n",
       " '5wq',\n",
       " '5year',\n",
       " '6031',\n",
       " '60p',\n",
       " '61',\n",
       " '61200',\n",
       " '61610',\n",
       " '6230',\n",
       " '62468',\n",
       " '630',\n",
       " '645',\n",
       " '65',\n",
       " '650',\n",
       " '66',\n",
       " '67441233',\n",
       " '69200',\n",
       " '69696',\n",
       " '69698',\n",
       " '69855',\n",
       " '69876',\n",
       " '69888',\n",
       " '69888nyt',\n",
       " '69911',\n",
       " '69969',\n",
       " '69988',\n",
       " '6day',\n",
       " '6hr',\n",
       " '6ish',\n",
       " '6miss',\n",
       " '6month',\n",
       " '6ph',\n",
       " '6pm',\n",
       " '6th',\n",
       " '6wu',\n",
       " '700',\n",
       " '7250',\n",
       " '7250i',\n",
       " '730',\n",
       " '750',\n",
       " '7548',\n",
       " '786',\n",
       " '7876150ppm',\n",
       " '7am',\n",
       " '7ish',\n",
       " '7mp',\n",
       " '7oz',\n",
       " '7pm',\n",
       " '7th',\n",
       " '80',\n",
       " '800',\n",
       " '80062',\n",
       " '8007',\n",
       " '80082',\n",
       " '80086',\n",
       " '80122300p',\n",
       " '80155',\n",
       " '80160',\n",
       " '80182',\n",
       " '8027',\n",
       " '80488',\n",
       " '80608',\n",
       " '8077',\n",
       " '80878',\n",
       " '81010',\n",
       " '81151',\n",
       " '81303',\n",
       " '81618',\n",
       " '82050',\n",
       " '82242',\n",
       " '82277',\n",
       " '82324',\n",
       " '82468',\n",
       " '83021',\n",
       " '83110',\n",
       " '83222',\n",
       " '83355',\n",
       " '83370',\n",
       " '83383',\n",
       " '83435',\n",
       " '83600',\n",
       " '84',\n",
       " '84025',\n",
       " '84122',\n",
       " '84128',\n",
       " '84199',\n",
       " '85',\n",
       " '850',\n",
       " '85023',\n",
       " '85069',\n",
       " '85222',\n",
       " '85233',\n",
       " '8552',\n",
       " '85555',\n",
       " '86021',\n",
       " '861',\n",
       " '86688',\n",
       " '87021',\n",
       " '87066',\n",
       " '87070',\n",
       " '87077',\n",
       " '87121',\n",
       " '87131',\n",
       " '872',\n",
       " '87239',\n",
       " '87575',\n",
       " '88039',\n",
       " '88066',\n",
       " '88088',\n",
       " '88222',\n",
       " '88600',\n",
       " '88800',\n",
       " '88877',\n",
       " '88888',\n",
       " '89034',\n",
       " '89080',\n",
       " '89545',\n",
       " '89555',\n",
       " '89693',\n",
       " '8am',\n",
       " '8lb',\n",
       " '8p',\n",
       " '8pm',\n",
       " '8th',\n",
       " '8wp',\n",
       " '900',\n",
       " '9153',\n",
       " '930',\n",
       " '945',\n",
       " '95',\n",
       " '9755',\n",
       " '97n7qp',\n",
       " '99',\n",
       " '9996',\n",
       " '9ae',\n",
       " '9am',\n",
       " '9ja',\n",
       " '9pm',\n",
       " '9t',\n",
       " '9th',\n",
       " 'a01',\n",
       " 'a21',\n",
       " 'aah',\n",
       " 'aaniy',\n",
       " 'aaooooright',\n",
       " 'aathi',\n",
       " 'ab',\n",
       " 'abbey',\n",
       " 'abeg',\n",
       " 'abel',\n",
       " 'aberdeen',\n",
       " 'abi',\n",
       " 'abil',\n",
       " 'abiola',\n",
       " 'abj',\n",
       " 'abl',\n",
       " 'abnorm',\n",
       " 'abroad',\n",
       " 'abt',\n",
       " 'abta',\n",
       " 'aburo',\n",
       " 'abus',\n",
       " 'ac',\n",
       " 'acc',\n",
       " 'accentur',\n",
       " 'accept',\n",
       " 'access',\n",
       " 'accid',\n",
       " 'accident',\n",
       " 'accommod',\n",
       " 'accomod',\n",
       " 'accordin',\n",
       " 'accordingli',\n",
       " 'account',\n",
       " 'accumul',\n",
       " 'ach',\n",
       " 'achiev',\n",
       " 'acid',\n",
       " 'acknowledg',\n",
       " 'acl03530150pm',\n",
       " 'acnt',\n",
       " 'aco',\n",
       " 'across',\n",
       " 'act',\n",
       " 'actin',\n",
       " 'action',\n",
       " 'activ',\n",
       " 'actor',\n",
       " 'actual',\n",
       " 'ad',\n",
       " 'adam',\n",
       " 'add',\n",
       " 'addamsfa',\n",
       " 'addi',\n",
       " 'addict',\n",
       " 'address',\n",
       " 'adewal',\n",
       " 'admin',\n",
       " 'administr',\n",
       " 'admir',\n",
       " 'admit',\n",
       " 'ador',\n",
       " 'adult',\n",
       " 'advanc',\n",
       " 'adventur',\n",
       " 'advic',\n",
       " 'advis',\n",
       " 'aeronaut',\n",
       " 'aeroplan',\n",
       " 'affair',\n",
       " 'affect',\n",
       " 'affection',\n",
       " 'affidavit',\n",
       " 'afford',\n",
       " 'afghanistan',\n",
       " 'afraid',\n",
       " 'african',\n",
       " 'aft',\n",
       " 'afternoon',\n",
       " 'aftr',\n",
       " 'ag',\n",
       " 'agalla',\n",
       " 'age',\n",
       " 'age16',\n",
       " 'agent',\n",
       " 'agidhan',\n",
       " 'ago',\n",
       " 'agre',\n",
       " 'ah',\n",
       " 'aha',\n",
       " 'ahead',\n",
       " 'ahhh',\n",
       " 'ahmad',\n",
       " 'ahold',\n",
       " 'aid',\n",
       " 'aig',\n",
       " 'aight',\n",
       " 'aint',\n",
       " 'air',\n",
       " 'air1',\n",
       " 'airport',\n",
       " 'aiya',\n",
       " 'aiyah',\n",
       " 'aiyar',\n",
       " 'aiyo',\n",
       " 'ak',\n",
       " 'aka',\n",
       " 'al',\n",
       " 'alaipayuth',\n",
       " 'album',\n",
       " 'alcohol',\n",
       " 'alert',\n",
       " 'alertfrom',\n",
       " 'alex',\n",
       " 'alfi',\n",
       " 'algarv',\n",
       " 'algorithm',\n",
       " 'ali',\n",
       " 'alian',\n",
       " 'alibi',\n",
       " 'aliv',\n",
       " 'allah',\n",
       " 'allo',\n",
       " 'allow',\n",
       " 'almost',\n",
       " 'alon',\n",
       " 'along',\n",
       " 'alreadi',\n",
       " 'alright',\n",
       " 'alrit',\n",
       " 'also',\n",
       " 'alter',\n",
       " 'altern',\n",
       " 'although',\n",
       " 'aluabl',\n",
       " 'alwa',\n",
       " 'alway',\n",
       " 'alwi',\n",
       " 'am',\n",
       " 'amaz',\n",
       " 'ambiti',\n",
       " 'ambrith',\n",
       " 'american',\n",
       " 'ami',\n",
       " 'amigo',\n",
       " 'amk',\n",
       " 'amla',\n",
       " 'ammo',\n",
       " 'among',\n",
       " 'amongst',\n",
       " 'amor',\n",
       " 'amount',\n",
       " 'amp',\n",
       " 'amt',\n",
       " 'an',\n",
       " 'ana',\n",
       " 'anal',\n",
       " 'analysi',\n",
       " 'anand',\n",
       " 'andrew',\n",
       " 'andro',\n",
       " 'angel',\n",
       " 'angri',\n",
       " 'anim',\n",
       " 'anji',\n",
       " 'anjola',\n",
       " 'anna',\n",
       " 'anni',\n",
       " 'anniversari',\n",
       " 'annonc',\n",
       " 'announc',\n",
       " 'annoy',\n",
       " 'annoyin',\n",
       " 'anot',\n",
       " 'anoth',\n",
       " 'ansr',\n",
       " 'answer',\n",
       " 'answr',\n",
       " 'antha',\n",
       " 'anthoni',\n",
       " 'anti',\n",
       " 'anybodi',\n",
       " 'anyhow',\n",
       " 'anymor',\n",
       " 'anyon',\n",
       " 'anyplac',\n",
       " 'anyth',\n",
       " 'anythin',\n",
       " 'anytim',\n",
       " 'anyway',\n",
       " 'anywher',\n",
       " 'aom',\n",
       " 'apart',\n",
       " 'ape',\n",
       " 'apeshit',\n",
       " 'aphexåõ',\n",
       " 'apo',\n",
       " 'apolog',\n",
       " 'apologet',\n",
       " 'apologis',\n",
       " 'app',\n",
       " 'appar',\n",
       " 'appeal',\n",
       " 'appear',\n",
       " 'appendix',\n",
       " 'appl',\n",
       " 'applausestor',\n",
       " 'applebe',\n",
       " 'appli',\n",
       " 'applic',\n",
       " 'appoint',\n",
       " 'appreci',\n",
       " 'approach',\n",
       " 'appropri',\n",
       " 'approx',\n",
       " 'appt',\n",
       " 'april',\n",
       " 'aproach',\n",
       " 'apt',\n",
       " 'aptitud',\n",
       " 'ar',\n",
       " 'arabian',\n",
       " 'arcad',\n",
       " 'ard',\n",
       " 'area',\n",
       " 'arent',\n",
       " 'arestaur',\n",
       " 'areyouuniqu',\n",
       " 'argentina',\n",
       " 'argh',\n",
       " 'argu',\n",
       " 'argument',\n",
       " 'ari',\n",
       " 'arm',\n",
       " 'armand',\n",
       " 'arng',\n",
       " 'arngd',\n",
       " 'around',\n",
       " 'arr',\n",
       " 'arrang',\n",
       " 'arrest',\n",
       " 'arriv',\n",
       " 'arrow',\n",
       " 'arsen',\n",
       " 'art',\n",
       " 'arti',\n",
       " 'artist',\n",
       " 'arul',\n",
       " 'arun',\n",
       " 'asap',\n",
       " 'ashley',\n",
       " 'asjesu',\n",
       " 'ask',\n",
       " 'askd',\n",
       " 'askin',\n",
       " 'asleep',\n",
       " 'aspect',\n",
       " 'ass',\n",
       " 'asshol',\n",
       " 'assum',\n",
       " 'astn',\n",
       " 'astoundingli',\n",
       " 'asu',\n",
       " 'asusu',\n",
       " 'ate',\n",
       " 'athlet',\n",
       " 'atlanta',\n",
       " 'atleast',\n",
       " 'atm',\n",
       " 'attach',\n",
       " 'attempt',\n",
       " 'atten',\n",
       " 'attend',\n",
       " 'attitud',\n",
       " 'attract',\n",
       " 'attribut',\n",
       " 'atur',\n",
       " 'auction',\n",
       " 'audrey',\n",
       " 'audri',\n",
       " 'august',\n",
       " 'aunt',\n",
       " 'aunti',\n",
       " 'aust',\n",
       " 'autocorrect',\n",
       " 'av',\n",
       " 'ava',\n",
       " 'avail',\n",
       " 'availa',\n",
       " 'avalarr',\n",
       " 'avatar',\n",
       " 'avbl',\n",
       " 'ave',\n",
       " 'aveng',\n",
       " 'avent',\n",
       " 'avo',\n",
       " 'avoid',\n",
       " 'await',\n",
       " 'awak',\n",
       " 'award',\n",
       " 'away',\n",
       " 'awesom',\n",
       " 'aww',\n",
       " 'ax',\n",
       " 'axi',\n",
       " 'ay',\n",
       " 'ayn',\n",
       " 'b4',\n",
       " 'b4190604',\n",
       " 'b4280703',\n",
       " 'b4u',\n",
       " 'b4utel',\n",
       " 'ba',\n",
       " 'ba128nnfwfly150ppm',\n",
       " 'baaaaab',\n",
       " 'babe',\n",
       " 'babi',\n",
       " 'babyjontet',\n",
       " 'bac',\n",
       " 'back',\n",
       " 'backdoor',\n",
       " 'bad',\n",
       " 'badli',\n",
       " 'bag',\n",
       " 'bahama',\n",
       " 'baig',\n",
       " 'bak',\n",
       " 'bakra',\n",
       " 'bakrid',\n",
       " 'balanc',\n",
       " 'balloon',\n",
       " 'bam',\n",
       " 'ban',\n",
       " 'bang',\n",
       " 'bangb',\n",
       " 'bangbab',\n",
       " 'bani',\n",
       " 'bank',\n",
       " 'banter',\n",
       " 'bao',\n",
       " 'bar',\n",
       " 'barbi',\n",
       " 'barcelona',\n",
       " 'bare',\n",
       " 'base',\n",
       " 'bash',\n",
       " 'basic',\n",
       " 'basket',\n",
       " 'basq',\n",
       " 'bat',\n",
       " 'batch',\n",
       " 'bath',\n",
       " 'bathroom',\n",
       " 'batt',\n",
       " 'batteri',\n",
       " 'battl',\n",
       " 'bay',\n",
       " 'bb',\n",
       " 'bbc',\n",
       " 'bbd',\n",
       " 'bbq',\n",
       " 'bc',\n",
       " 'bck',\n",
       " 'bcm',\n",
       " 'bcm1896wc1n3xx',\n",
       " 'bcm4284',\n",
       " 'bcmsfwc1n3xx',\n",
       " 'bcoz',\n",
       " 'bcum',\n",
       " 'bday',\n",
       " 'beach',\n",
       " 'bear',\n",
       " 'beauti',\n",
       " 'bec',\n",
       " 'becau',\n",
       " 'becausethey',\n",
       " 'becom',\n",
       " 'becoz',\n",
       " 'becz',\n",
       " 'bed',\n",
       " 'bedrm',\n",
       " 'bedroom',\n",
       " 'beehoon',\n",
       " 'beer',\n",
       " 'beerag',\n",
       " 'befor',\n",
       " 'beforehand',\n",
       " 'beg',\n",
       " 'beggar',\n",
       " 'begin',\n",
       " 'begun',\n",
       " 'behav',\n",
       " 'behind',\n",
       " 'bein',\n",
       " 'believ',\n",
       " 'beliv',\n",
       " 'bell',\n",
       " 'bellearli',\n",
       " 'belli',\n",
       " 'belliger',\n",
       " 'belong',\n",
       " 'belov',\n",
       " 'belovd',\n",
       " 'ben',\n",
       " 'bend',\n",
       " 'beneath',\n",
       " 'beneficiari',\n",
       " 'benefit',\n",
       " 'best',\n",
       " 'best1',\n",
       " ...]"
      ]
     },
     "execution_count": 59,
     "metadata": {},
     "output_type": "execute_result"
    }
   ],
   "source": [
    "cv.get_feature_names()"
   ]
  },
  {
   "cell_type": "code",
   "execution_count": 61,
   "metadata": {},
   "outputs": [
    {
     "data": {
      "text/plain": [
       "(3200, 5428)"
      ]
     },
     "execution_count": 61,
     "metadata": {},
     "output_type": "execute_result"
    }
   ],
   "source": [
    "x.shape"
   ]
  },
  {
   "cell_type": "code",
   "execution_count": null,
   "metadata": {},
   "outputs": [],
   "source": [
    "Data has 3200 features and that is why only 3200 labels needs to be taken"
   ]
  },
  {
   "cell_type": "code",
   "execution_count": 62,
   "metadata": {},
   "outputs": [
    {
     "name": "stdout",
     "output_type": "stream",
     "text": [
      "ham     2768\n",
      "spam     432\n",
      "Name: Category, dtype: int64\n",
      "ham\n",
      "ham\n",
      "1\n"
     ]
    }
   ],
   "source": [
    "\n",
    "y = df2['Category'][:3200]\n",
    "print (y.value_counts())\n",
    "\n",
    "print(y[0])\n",
    "print(y[1])\n",
    "\n",
    "le = LabelEncoder()\n",
    "y = le.fit_transform(y)\n",
    "\n",
    "print(y[5])"
   ]
  },
  {
   "cell_type": "code",
   "execution_count": 63,
   "metadata": {},
   "outputs": [
    {
     "data": {
      "text/plain": [
       "(3200,)"
      ]
     },
     "execution_count": 63,
     "metadata": {},
     "output_type": "execute_result"
    }
   ],
   "source": [
    "y.shape"
   ]
  },
  {
   "cell_type": "markdown",
   "metadata": {},
   "source": [
    "## Training the Model"
   ]
  },
  {
   "cell_type": "markdown",
   "metadata": {},
   "source": [
    "Preparing train and test data with X as features and Y as labels."
   ]
  },
  {
   "cell_type": "markdown",
   "metadata": {},
   "source": [
    "Spliting the feature (x) and labels (y) into 80% training and 20% test data"
   ]
  },
  {
   "cell_type": "code",
   "execution_count": 64,
   "metadata": {},
   "outputs": [],
   "source": [
    "xtrain, xtest, ytrain, ytest = train_test_split(x, y,test_size= 0.20, random_state = 0)\n"
   ]
  },
  {
   "cell_type": "code",
   "execution_count": 65,
   "metadata": {},
   "outputs": [],
   "source": [
    "# Function to predict score\n",
    "def get_score(model, x_train, x_test, y_train, y_test):\n",
    "    model.fit(x_train, y_train)\n",
    "    return model.score(x_test, y_test)"
   ]
  },
  {
   "cell_type": "code",
   "execution_count": 66,
   "metadata": {},
   "outputs": [],
   "source": [
    "# Importing Classification models \n",
    "from sklearn.naive_bayes import GaussianNB\n",
    "from sklearn.naive_bayes import MultinomialNB\n",
    "from sklearn.linear_model import LinearRegression, LogisticRegression\n",
    "from sklearn.svm import SVC\n",
    "from sklearn.ensemble import RandomForestClassifier\n",
    "from sklearn.linear_model import Lasso\n",
    "from sklearn.tree import DecisionTreeRegressor\n",
    "from sklearn.neighbors import KNeighborsClassifier\n",
    "\n",
    "\n",
    "# Creating all the model's objects\n",
    "\n",
    "GNB_model = GaussianNB()\n",
    "MNB_model = MultinomialNB()\n",
    "lr_model = LinearRegression()\n",
    "log_model = LogisticRegression()\n",
    "svm_model = SVC()\n",
    "rf_model = RandomForestClassifier()\n",
    "lasso_model = Lasso(alpha=1, selection='cyclic' )\n",
    "DT_model = DecisionTreeRegressor(criterion='friedman_mse', splitter='random')\n",
    "Knn_model = KNeighborsClassifier(n_neighbors=5)                      # KNN Model\n",
    "\n",
    "model_list = [GNB_model, MNB_model, lr_model, log_model, svm_model, rf_model]\n",
    "model_name = ['Gaussian Naive Bayes', 'Multinomial Naive Bayes', 'Linear Regression', 'Logistic Regression', 'SVM', 'RandomForest Classifier']"
   ]
  },
  {
   "cell_type": "code",
   "execution_count": 67,
   "metadata": {},
   "outputs": [
    {
     "data": {
      "text/plain": [
       "KNeighborsClassifier(algorithm='auto', leaf_size=30, metric='minkowski',\n",
       "                     metric_params=None, n_jobs=None, n_neighbors=5, p=2,\n",
       "                     weights='uniform')"
      ]
     },
     "execution_count": 67,
     "metadata": {},
     "output_type": "execute_result"
    }
   ],
   "source": [
    "GNB_model.fit(xtrain, ytrain)\n",
    "MNB_model.fit(xtrain, ytrain)\n",
    "lr_model.fit(xtrain, ytrain)\n",
    "log_model.fit(xtrain, ytrain)\n",
    "svm_model.fit(xtrain, ytrain)\n",
    "rf_model.fit(xtrain, ytrain)\n",
    "lasso_model.fit(xtrain, ytrain)\n",
    "DT_model.fit(xtrain, ytrain)\n",
    "Knn_model.fit(xtrain, ytrain)"
   ]
  },
  {
   "cell_type": "markdown",
   "metadata": {},
   "source": [
    "## Making Model Prediction and Computing Accuracy\n"
   ]
  },
  {
   "cell_type": "code",
   "execution_count": 68,
   "metadata": {},
   "outputs": [
    {
     "name": "stdout",
     "output_type": "stream",
     "text": [
      "Accuracy with Gaussian Naive Bayes is 0.9078125\n",
      "Accuracy with Multinomial Naive Bayes is 0.9796875\n",
      "Accuracy with Linear Regression is 0.7167687602944947\n",
      "Accuracy with Logistic Regression is 0.975\n",
      "Accuracy with SVM is 0.9765625\n",
      "Accuracy with RandomForest Classifier is 0.9734375\n",
      "\n",
      "\n",
      "Maximum accuracy is 0.9796875 with model : Multinomial Naive Bayes\n"
     ]
    }
   ],
   "source": [
    "# getting model scores and best model\n",
    "model_scores = []\n",
    "for i in range(len(model_list)):\n",
    "    print('Accuracy with '+ model_name[i] + ' is ' + str(get_score(model_list[i], xtrain, xtest, ytrain, ytest)))\n",
    "    model_scores.append(get_score(model_list[i], xtrain, xtest, ytrain, ytest))\n",
    "    \n",
    "print('\\n\\nMaximum accuracy is ' + str(max(model_scores)) + ' with model : ' + model_name[model_scores.index(max(model_scores))])"
   ]
  },
  {
   "cell_type": "code",
   "execution_count": 69,
   "metadata": {},
   "outputs": [
    {
     "data": {
      "text/html": [
       "<div>\n",
       "<style scoped>\n",
       "    .dataframe tbody tr th:only-of-type {\n",
       "        vertical-align: middle;\n",
       "    }\n",
       "\n",
       "    .dataframe tbody tr th {\n",
       "        vertical-align: top;\n",
       "    }\n",
       "\n",
       "    .dataframe thead th {\n",
       "        text-align: right;\n",
       "    }\n",
       "</style>\n",
       "<table border=\"1\" class=\"dataframe\">\n",
       "  <thead>\n",
       "    <tr style=\"text-align: right;\">\n",
       "      <th></th>\n",
       "      <th>Model</th>\n",
       "      <th>Accuracy</th>\n",
       "    </tr>\n",
       "  </thead>\n",
       "  <tbody>\n",
       "    <tr>\n",
       "      <th>0</th>\n",
       "      <td>Gaussian Naive Bayes</td>\n",
       "      <td>0.907813</td>\n",
       "    </tr>\n",
       "    <tr>\n",
       "      <th>1</th>\n",
       "      <td>Multinomial Naive Bayes</td>\n",
       "      <td>0.979688</td>\n",
       "    </tr>\n",
       "    <tr>\n",
       "      <th>2</th>\n",
       "      <td>Linear Regression</td>\n",
       "      <td>0.716769</td>\n",
       "    </tr>\n",
       "    <tr>\n",
       "      <th>3</th>\n",
       "      <td>Logistic Regression</td>\n",
       "      <td>0.975000</td>\n",
       "    </tr>\n",
       "    <tr>\n",
       "      <th>4</th>\n",
       "      <td>SVM Model</td>\n",
       "      <td>0.976562</td>\n",
       "    </tr>\n",
       "    <tr>\n",
       "      <th>5</th>\n",
       "      <td>Random Forest Clssifier</td>\n",
       "      <td>0.971875</td>\n",
       "    </tr>\n",
       "    <tr>\n",
       "      <th>6</th>\n",
       "      <td>Lasso Model</td>\n",
       "      <td>-0.000012</td>\n",
       "    </tr>\n",
       "    <tr>\n",
       "      <th>7</th>\n",
       "      <td>Decision Tree</td>\n",
       "      <td>0.694041</td>\n",
       "    </tr>\n",
       "    <tr>\n",
       "      <th>8</th>\n",
       "      <td>K Nearest Neighbors</td>\n",
       "      <td>0.890625</td>\n",
       "    </tr>\n",
       "  </tbody>\n",
       "</table>\n",
       "</div>"
      ],
      "text/plain": [
       "                     Model  Accuracy\n",
       "0     Gaussian Naive Bayes  0.907813\n",
       "1  Multinomial Naive Bayes  0.979688\n",
       "2        Linear Regression  0.716769\n",
       "3      Logistic Regression  0.975000\n",
       "4                SVM Model  0.976562\n",
       "5  Random Forest Clssifier  0.971875\n",
       "6              Lasso Model -0.000012\n",
       "7            Decision Tree  0.694041\n",
       "8      K Nearest Neighbors  0.890625"
      ]
     },
     "execution_count": 69,
     "metadata": {},
     "output_type": "execute_result"
    }
   ],
   "source": [
    "algorithm = [GNB_model, MNB_model, lr_model, log_model, svm_model, rf_model, lasso_model, DT_model, Knn_model]\n",
    "model_name = ['Gaussian Naive Bayes', 'Multinomial Naive Bayes', 'Linear Regression', 'Logistic Regression', 'SVM Model', 'Random Forest Clssifier',\n",
    "              'Lasso Model', 'Decision Tree', 'K Nearest Neighbors']\n",
    "\n",
    "scores = []\n",
    "for i in range(len(model_name)):\n",
    "    y_pred = algorithm[i].predict(xtest)\n",
    "    y_scores = algorithm[i].score(xtest, ytest)\n",
    "    scores.append({\n",
    "            'Model' : model_name[i],\n",
    "            'Accuracy'  : y_scores\n",
    "        })\n",
    "\n",
    "\n",
    "score_df = pd.DataFrame(scores, columns = ['Model', 'Accuracy'])\n",
    "score_df\n"
   ]
  },
  {
   "cell_type": "code",
   "execution_count": 70,
   "metadata": {},
   "outputs": [
    {
     "name": "stdout",
     "output_type": "stream",
     "text": [
      "\n",
      "\n",
      "Maximum accuracy is 0.9796875 with model : Multinomial Naive Bayes\n"
     ]
    }
   ],
   "source": [
    "print('\\n\\nMaximum accuracy is ' + str(max(model_scores)) + ' with model : ' + model_name[model_scores.index(max(model_scores))])"
   ]
  },
  {
   "cell_type": "code",
   "execution_count": 72,
   "metadata": {},
   "outputs": [],
   "source": [
    "# Making prediction on test data using all the models\n",
    "\n",
    "y_pred_GNB = GNB_model.predict(xtest)\n",
    "y_pred_MNB = MNB_model.predict(xtest)\n",
    "y_pred_lr = lr_model.predict(xtest)\n",
    "y_pred_log = log_model.predict(xtest)\n",
    "y_pred_svm = svm_model.predict(xtest)\n",
    "y_pred_rf = rf_model.predict(xtest)\n",
    "y_pred_lasso = lasso_model.predict(xtest)\n",
    "y_pred_dt = DT_model.predict(xtest)\n",
    "y_pred_knn = Knn_model.predict(xtest)"
   ]
  },
  {
   "cell_type": "markdown",
   "metadata": {},
   "source": [
    "## Evaluating the Model"
   ]
  },
  {
   "cell_type": "markdown",
   "metadata": {},
   "source": [
    "__Evaluate models which has Accuracy more than 90 %__"
   ]
  },
  {
   "cell_type": "code",
   "execution_count": 73,
   "metadata": {},
   "outputs": [],
   "source": [
    "from sklearn.metrics import confusion_matrix, classification_report"
   ]
  },
  {
   "cell_type": "markdown",
   "metadata": {},
   "source": [
    "### 1. Evaluating Naive Bayes Gaussian Model"
   ]
  },
  {
   "cell_type": "code",
   "execution_count": 74,
   "metadata": {},
   "outputs": [],
   "source": [
    "# Function to plot confusion matrix\n",
    "import matplotlib.pyplot as plt\n",
    "def get_confusion_matrix(y_test, y_pred):\n",
    "    import seaborn as sn\n",
    "    plt.figure(figsize = (6,5))\n",
    "    sn.heatmap(confusion_matrix(y_test,y_pred), cmap=\"Greens\", annot = True)\n",
    "    plt.xlabel('Predicted Value')\n",
    "    plt.ylabel('Acual Value')\n"
   ]
  },
  {
   "cell_type": "code",
   "execution_count": 75,
   "metadata": {},
   "outputs": [
    {
     "name": "stdout",
     "output_type": "stream",
     "text": [
      "\n",
      "Classification Report for Naive Bayes Gaussian Model is :\n",
      "\n",
      "               precision    recall  f1-score   support\n",
      "\n",
      "           0       0.99      0.90      0.94       553\n",
      "           1       0.60      0.93      0.73        87\n",
      "\n",
      "    accuracy                           0.91       640\n",
      "   macro avg       0.80      0.92      0.84       640\n",
      "weighted avg       0.94      0.91      0.92       640\n",
      "\n",
      "\n",
      "\n",
      "\n",
      "Confusion Matrix for Naive Bayes Gaussian Model is :\n",
      "\n",
      " None\n"
     ]
    },
    {
     "data": {
      "image/png": "[encoded data removed]",
      "text/plain": [
       "<Figure size 432x360 with 2 Axes>"
      ]
     },
     "metadata": {
      "needs_background": "light"
     },
     "output_type": "display_data"
    }
   ],
   "source": [
    "print('\\nClassification Report for Naive Bayes Gaussian Model is :\\n\\n', classification_report(ytest,y_pred_GNB))\n",
    "print('\\n\\n\\nConfusion Matrix for Naive Bayes Gaussian Model is :\\n\\n', get_confusion_matrix(ytest,y_pred_GNB))"
   ]
  },
  {
   "cell_type": "markdown",
   "metadata": {},
   "source": [
    "### 2. Evaluating Naive Bayes Multinomial Model"
   ]
  },
  {
   "cell_type": "code",
   "execution_count": 77,
   "metadata": {},
   "outputs": [
    {
     "name": "stdout",
     "output_type": "stream",
     "text": [
      "\n",
      "Classification Report for Naive Bayes Multinomial Model is :\n",
      "\n",
      "               precision    recall  f1-score   support\n",
      "\n",
      "           0       0.99      0.98      0.99       553\n",
      "           1       0.89      0.97      0.93        87\n",
      "\n",
      "    accuracy                           0.98       640\n",
      "   macro avg       0.94      0.97      0.96       640\n",
      "weighted avg       0.98      0.98      0.98       640\n",
      "\n",
      "\n",
      "\n",
      "\n",
      "Confusion Matrix for Naive Bayes Multinomial Model is :\n",
      "\n",
      " None\n"
     ]
    },
    {
     "data": {
      "image/png": "[encoded data removed]",
      "text/plain": [
       "<Figure size 432x360 with 2 Axes>"
      ]
     },
     "metadata": {
      "needs_background": "light"
     },
     "output_type": "display_data"
    }
   ],
   "source": [
    "print('\\nClassification Report for Naive Bayes Multinomial Model is :\\n\\n', classification_report(ytest,y_pred_MNB))\n",
    "print('\\n\\n\\nConfusion Matrix for Naive Bayes Multinomial Model is :\\n\\n', get_confusion_matrix(ytest,y_pred_MNB))"
   ]
  },
  {
   "cell_type": "markdown",
   "metadata": {},
   "source": [
    "### 3. Evaluating Logistic Regression Model\n"
   ]
  },
  {
   "cell_type": "code",
   "execution_count": 79,
   "metadata": {},
   "outputs": [
    {
     "name": "stdout",
     "output_type": "stream",
     "text": [
      "\n",
      "Classification Report for Logistic Model is :\n",
      "\n",
      "               precision    recall  f1-score   support\n",
      "\n",
      "           0       0.98      1.00      0.99       553\n",
      "           1       0.97      0.84      0.90        87\n",
      "\n",
      "    accuracy                           0.97       640\n",
      "   macro avg       0.97      0.92      0.94       640\n",
      "weighted avg       0.97      0.97      0.97       640\n",
      "\n",
      "\n",
      "\n",
      "\n",
      "Confusion Matrix for Logistic Model is :\n",
      "\n",
      " None\n"
     ]
    },
    {
     "data": {
      "image/png": "[encoded data removed]",
      "text/plain": [
       "<Figure size 432x360 with 2 Axes>"
      ]
     },
     "metadata": {
      "needs_background": "light"
     },
     "output_type": "display_data"
    }
   ],
   "source": [
    "print('\\nClassification Report for Logistic Model is :\\n\\n', classification_report(ytest,y_pred_log))\n",
    "print('\\n\\n\\nConfusion Matrix for Logistic Model is :\\n\\n', get_confusion_matrix(ytest,y_pred_log))\n"
   ]
  },
  {
   "cell_type": "markdown",
   "metadata": {},
   "source": [
    "### 4. Evaluating SVM Model"
   ]
  },
  {
   "cell_type": "code",
   "execution_count": 80,
   "metadata": {},
   "outputs": [
    {
     "name": "stdout",
     "output_type": "stream",
     "text": [
      "\n",
      "Classification Report for SVM Model is :\n",
      "\n",
      "               precision    recall  f1-score   support\n",
      "\n",
      "           0       0.98      1.00      0.99       553\n",
      "           1       0.99      0.84      0.91        87\n",
      "\n",
      "    accuracy                           0.98       640\n",
      "   macro avg       0.98      0.92      0.95       640\n",
      "weighted avg       0.98      0.98      0.98       640\n",
      "\n",
      "\n",
      "\n",
      "\n",
      "Confusion Matrix for SVM Model is :\n",
      "\n",
      " None\n"
     ]
    },
    {
     "data": {
      "image/png": "[encoded data removed]",
      "text/plain": [
       "<Figure size 432x360 with 2 Axes>"
      ]
     },
     "metadata": {
      "needs_background": "light"
     },
     "output_type": "display_data"
    }
   ],
   "source": [
    "print('\\nClassification Report for SVM Model is :\\n\\n', classification_report(ytest,y_pred_svm))\n",
    "print('\\n\\n\\nConfusion Matrix for SVM Model is :\\n\\n', get_confusion_matrix(ytest,y_pred_svm))\n"
   ]
  },
  {
   "cell_type": "markdown",
   "metadata": {},
   "source": [
    "### 5. Evaluating Random Forest Model\n"
   ]
  },
  {
   "cell_type": "code",
   "execution_count": 82,
   "metadata": {},
   "outputs": [
    {
     "name": "stdout",
     "output_type": "stream",
     "text": [
      "\n",
      "Classification Report for Random Forest Model is :\n",
      "\n",
      "               precision    recall  f1-score   support\n",
      "\n",
      "           0       0.97      1.00      0.98       553\n",
      "           1       0.99      0.80      0.89        87\n",
      "\n",
      "    accuracy                           0.97       640\n",
      "   macro avg       0.98      0.90      0.94       640\n",
      "weighted avg       0.97      0.97      0.97       640\n",
      "\n",
      "\n",
      "\n",
      "\n",
      "Confusion Matrix for Random Forest Model is :\n",
      "\n",
      " None\n"
     ]
    },
    {
     "data": {
      "image/png": "[encoded data removed]",
      "text/plain": [
       "<Figure size 432x360 with 2 Axes>"
      ]
     },
     "metadata": {
      "needs_background": "light"
     },
     "output_type": "display_data"
    }
   ],
   "source": [
    "print('\\nClassification Report for Random Forest Model is :\\n\\n', classification_report(ytest,y_pred_rf))\n",
    "print('\\n\\n\\nConfusion Matrix for Random Forest Model is :\\n\\n', get_confusion_matrix(ytest,y_pred_rf))\n"
   ]
  },
  {
   "cell_type": "markdown",
   "metadata": {},
   "source": [
    "## Predicting Emails with Multinomial Naive Bayes Model\n"
   ]
  },
  {
   "cell_type": "code",
   "execution_count": 90,
   "metadata": {},
   "outputs": [
    {
     "data": {
      "text/html": [
       "<div>\n",
       "<style scoped>\n",
       "    .dataframe tbody tr th:only-of-type {\n",
       "        vertical-align: middle;\n",
       "    }\n",
       "\n",
       "    .dataframe tbody tr th {\n",
       "        vertical-align: top;\n",
       "    }\n",
       "\n",
       "    .dataframe thead th {\n",
       "        text-align: right;\n",
       "    }\n",
       "</style>\n",
       "<table border=\"1\" class=\"dataframe\">\n",
       "  <thead>\n",
       "    <tr style=\"text-align: right;\">\n",
       "      <th></th>\n",
       "      <th>0</th>\n",
       "      <th>Message</th>\n",
       "    </tr>\n",
       "  </thead>\n",
       "  <tbody>\n",
       "    <tr>\n",
       "      <th>0</th>\n",
       "      <td>Hey mohan can we get together to watch footbal...</td>\n",
       "      <td>Hey mohan can we get together to watch footbal...</td>\n",
       "    </tr>\n",
       "    <tr>\n",
       "      <th>1</th>\n",
       "      <td>Upto discount on parking exclusive offer just ...</td>\n",
       "      <td>Upto discount on parking exclusive offer just ...</td>\n",
       "    </tr>\n",
       "  </tbody>\n",
       "</table>\n",
       "</div>"
      ],
      "text/plain": [
       "                                                   0  \\\n",
       "0  Hey mohan can we get together to watch footbal...   \n",
       "1  Upto discount on parking exclusive offer just ...   \n",
       "\n",
       "                                             Message  \n",
       "0  Hey mohan can we get together to watch footbal...  \n",
       "1  Upto discount on parking exclusive offer just ...  "
      ]
     },
     "execution_count": 90,
     "metadata": {},
     "output_type": "execute_result"
    }
   ],
   "source": [
    "\n",
    "emails = [\n",
    "    'Hey mohan can we get together to watch footbal game tomorrow',\n",
    "    'Upto discount on parking exclusive offer just for you. Dont miss this reward'\n",
    "]\n",
    "\n",
    "df10 = pd.DataFrame(emails)\n",
    "df10 = df10.rename(columns={'0': 'Message'})\n",
    "\n",
    "df10['Message'] = pd.DataFrame(emails)\n",
    "df10.head()"
   ]
  },
  {
   "cell_type": "code",
   "execution_count": 91,
   "metadata": {},
   "outputs": [
    {
     "name": "stdout",
     "output_type": "stream",
     "text": [
      "\t\t\t\t MESSAGE  0\n",
      "\n",
      " After Regular Expression - Message  0  :  Hey mohan can we get together to watch footbal game tomorrow\n",
      "\n",
      " Lower case Message  0  :  hey mohan can we get together to watch footbal game tomorrow\n",
      "\n",
      " After Splitting - Message  0  :  ['hey', 'mohan', 'can', 'we', 'get', 'together', 'to', 'watch', 'footbal', 'game', 'tomorrow']\n",
      "\n",
      " After Stemming - Message  0  :  ['hey', 'mohan', 'get', 'togeth', 'watch', 'footbal', 'game', 'tomorrow']\n",
      "\n",
      " Final Prepared - Message  0  :  hey mohan get togeth watch footbal game tomorrow \n",
      "\n",
      "\n",
      "\t\t\t\t MESSAGE  1\n",
      "\n",
      " After Regular Expression - Message  1  :  Upto discount on parking exclusive offer just for you  Dont miss this reward\n",
      "\n",
      " Lower case Message  1  :  upto discount on parking exclusive offer just for you  dont miss this reward\n",
      "\n",
      " After Splitting - Message  1  :  ['upto', 'discount', 'on', 'parking', 'exclusive', 'offer', 'just', 'for', 'you', 'dont', 'miss', 'this', 'reward']\n",
      "\n",
      " After Stemming - Message  1  :  ['upto', 'discount', 'park', 'exclus', 'offer', 'dont', 'miss', 'reward']\n",
      "\n",
      " Final Prepared - Message  1  :  upto discount park exclus offer dont miss reward \n",
      "\n",
      "\n"
     ]
    }
   ],
   "source": [
    "l = len(df10.Message)\n",
    "testing = preprocessing(df10, l)"
   ]
  },
  {
   "cell_type": "code",
   "execution_count": 92,
   "metadata": {},
   "outputs": [
    {
     "data": {
      "text/plain": [
       "['hey mohan get togeth watch footbal game tomorrow',\n",
       " 'upto discount park exclus offer dont miss reward']"
      ]
     },
     "execution_count": 92,
     "metadata": {},
     "output_type": "execute_result"
    }
   ],
   "source": [
    "testing"
   ]
  },
  {
   "cell_type": "code",
   "execution_count": 93,
   "metadata": {},
   "outputs": [],
   "source": [
    "test = cv.transform(testing).toarray()"
   ]
  },
  {
   "cell_type": "code",
   "execution_count": 94,
   "metadata": {},
   "outputs": [
    {
     "data": {
      "text/plain": [
       "array([0, 1])"
      ]
     },
     "execution_count": 94,
     "metadata": {},
     "output_type": "execute_result"
    }
   ],
   "source": [
    "MNB_model.predict(test)"
   ]
  },
  {
   "cell_type": "markdown",
   "metadata": {},
   "source": [
    "Here 0 means NOT SPAM and 1 means SPAM."
   ]
  },
  {
   "cell_type": "markdown",
   "metadata": {},
   "source": [
    "Writing a function to predict email."
   ]
  },
  {
   "cell_type": "code",
   "execution_count": 105,
   "metadata": {},
   "outputs": [],
   "source": [
    "# Function to predic the Emails on selected model\n",
    "def predict_spam(model, emails):\n",
    "    df = pd.DataFrame(emails)\n",
    "    df = df.rename(columns = {'0' : 'Message'})\n",
    "    df['Message'] = pd.DataFrame(emails)\n",
    "    #print(df.head())\n",
    "    l = len(df10.Message)\n",
    "    testing = preprocessing(df, l)\n",
    "    #print(testing)\n",
    "    test = cv.transform(testing).toarray()\n",
    "    result_integer = model.predict(test)\n",
    "    result = []\n",
    "    for i in result_integer:\n",
    "        if i == 0:\n",
    "            result.append('This is NOT a SPAM')\n",
    "        else:\n",
    "            result.append('This is a SPAM')\n",
    "    return result"
   ]
  },
  {
   "cell_type": "code",
   "execution_count": 111,
   "metadata": {},
   "outputs": [
    {
     "name": "stdout",
     "output_type": "stream",
     "text": [
      "['This is NOT a SPAM', 'This is a SPAM']\n"
     ]
    }
   ],
   "source": [
    "emails = [\n",
    "    'Hey mohan can we get together to watch footbal game tomorrow',\n",
    "    'Upto discount on parking exclusive offer just for you. Dont miss this reward'\n",
    "]\n",
    "\n",
    "print(predict_spam(MNB_model, emails))"
   ]
  },
  {
   "cell_type": "markdown",
   "metadata": {},
   "source": [
    "## Result"
   ]
  },
  {
   "cell_type": "code",
   "execution_count": 112,
   "metadata": {},
   "outputs": [
    {
     "data": {
      "text/html": [
       "<div>\n",
       "<style scoped>\n",
       "    .dataframe tbody tr th:only-of-type {\n",
       "        vertical-align: middle;\n",
       "    }\n",
       "\n",
       "    .dataframe tbody tr th {\n",
       "        vertical-align: top;\n",
       "    }\n",
       "\n",
       "    .dataframe thead th {\n",
       "        text-align: right;\n",
       "    }\n",
       "</style>\n",
       "<table border=\"1\" class=\"dataframe\">\n",
       "  <thead>\n",
       "    <tr style=\"text-align: right;\">\n",
       "      <th></th>\n",
       "      <th>Model</th>\n",
       "      <th>Accuracy</th>\n",
       "    </tr>\n",
       "  </thead>\n",
       "  <tbody>\n",
       "    <tr>\n",
       "      <th>0</th>\n",
       "      <td>Gaussian Naive Bayes</td>\n",
       "      <td>0.907813</td>\n",
       "    </tr>\n",
       "    <tr>\n",
       "      <th>1</th>\n",
       "      <td>Multinomial Naive Bayes</td>\n",
       "      <td>0.979688</td>\n",
       "    </tr>\n",
       "    <tr>\n",
       "      <th>2</th>\n",
       "      <td>Linear Regression</td>\n",
       "      <td>0.716769</td>\n",
       "    </tr>\n",
       "    <tr>\n",
       "      <th>3</th>\n",
       "      <td>Logistic Regression</td>\n",
       "      <td>0.975000</td>\n",
       "    </tr>\n",
       "    <tr>\n",
       "      <th>4</th>\n",
       "      <td>SVM Model</td>\n",
       "      <td>0.976562</td>\n",
       "    </tr>\n",
       "    <tr>\n",
       "      <th>5</th>\n",
       "      <td>Random Forest Clssifier</td>\n",
       "      <td>0.971875</td>\n",
       "    </tr>\n",
       "    <tr>\n",
       "      <th>6</th>\n",
       "      <td>Lasso Model</td>\n",
       "      <td>-0.000012</td>\n",
       "    </tr>\n",
       "    <tr>\n",
       "      <th>7</th>\n",
       "      <td>Decision Tree</td>\n",
       "      <td>0.694041</td>\n",
       "    </tr>\n",
       "    <tr>\n",
       "      <th>8</th>\n",
       "      <td>K Nearest Neighbors</td>\n",
       "      <td>0.890625</td>\n",
       "    </tr>\n",
       "  </tbody>\n",
       "</table>\n",
       "</div>"
      ],
      "text/plain": [
       "                     Model  Accuracy\n",
       "0     Gaussian Naive Bayes  0.907813\n",
       "1  Multinomial Naive Bayes  0.979688\n",
       "2        Linear Regression  0.716769\n",
       "3      Logistic Regression  0.975000\n",
       "4                SVM Model  0.976562\n",
       "5  Random Forest Clssifier  0.971875\n",
       "6              Lasso Model -0.000012\n",
       "7            Decision Tree  0.694041\n",
       "8      K Nearest Neighbors  0.890625"
      ]
     },
     "execution_count": 112,
     "metadata": {},
     "output_type": "execute_result"
    }
   ],
   "source": [
    "score_df"
   ]
  },
  {
   "cell_type": "markdown",
   "metadata": {},
   "source": [
    "Spam email prediction is performed with different Machine Learning algorithms and found __Multinomial Naive Bayes Model__ has the Maximum accuracy of __97.96%__."
   ]
  },
  {
   "cell_type": "markdown",
   "metadata": {},
   "source": [
    "### Saving Model to implement Python Flask API"
   ]
  },
  {
   "cell_type": "markdown",
   "metadata": {},
   "source": [
    "__I am going to further implement Flask API using HTML, CSS, Javascript, Python Flask API and Postman application in the next Notebook__."
   ]
  },
  {
   "cell_type": "code",
   "execution_count": 113,
   "metadata": {},
   "outputs": [
    {
     "data": {
      "text/plain": [
       "5428"
      ]
     },
     "execution_count": 113,
     "metadata": {},
     "output_type": "execute_result"
    }
   ],
   "source": [
    "# Extracting all the corpus name of length 5428\n",
    "corpus_names = cv.get_feature_names()\n",
    "len(corpus_names)"
   ]
  },
  {
   "cell_type": "code",
   "execution_count": 115,
   "metadata": {},
   "outputs": [],
   "source": [
    "# Saving Multinomial Naive Bayes Model\n",
    "import pickle\n",
    "with open('NBGmodel.pickle', 'wb') as f:\n",
    "    pickle.dump(MNB_model, f)"
   ]
  },
  {
   "cell_type": "code",
   "execution_count": 117,
   "metadata": {},
   "outputs": [],
   "source": [
    "# Saving all the extracted corpus_names to use in Flask API\n",
    "import json\n",
    "columns = {\n",
    "    'data_columns' : [col.lower() for col in corpus_names]\n",
    "}\n",
    "with open('columns.json', 'w') as f:\n",
    "    f.write(json.dumps(columns))"
   ]
  }
 ],
 "metadata": {
  "kernelspec": {
   "display_name": "Python 3",
   "language": "python",
   "name": "python3"
  },
  "language_info": {
   "codemirror_mode": {
    "name": "ipython",
    "version": 3
   },
   "file_extension": ".py",
   "mimetype": "text/x-python",
   "name": "python",
   "nbconvert_exporter": "python",
   "pygments_lexer": "ipython3",
   "version": "3.7.6"
  }
 },
 "nbformat": 4,
 "nbformat_minor": 2
}
